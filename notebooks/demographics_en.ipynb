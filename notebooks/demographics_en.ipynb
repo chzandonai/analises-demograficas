{
 "cells": [
  {
   "cell_type": "code",
   "execution_count": null,
   "id": "e405a919",
   "metadata": {},
   "outputs": [],
   "source": [
    "import pandas as pd\n",
    "import urllib\n",
    "import requests\n",
    "import funcoes\n",
    "\n",
    "\n"
   ]
  },
  {
   "cell_type": "code",
   "execution_count": null,
   "id": "7a8e1182",
   "metadata": {
    "scrolled": true
   },
   "outputs": [],
   "source": [
    "url_data = 'https://archive.ics.uci.edu/ml/machine-learning-databases/adult/adult.data'\n",
    "url_names = 'https://archive.ics.uci.edu/ml/machine-learning-databases/adult/adult.names'\n",
    "url_test = 'https://archive.ics.uci.edu/ml/machine-learning-databases/adult/adult.test'\n",
    "funcoes.importa_salva_dados(url_data,'adult_data.csv')\n",
    "funcoes.importa_salva_dados(url_names,'adult_names.csv')\n",
    "funcoes.importa_salva_dados(url_test,'adult_test.csv')\n",
    "data = funcoes.le_dados()\n",
    "data.head()"
   ]
  },
  {
   "cell_type": "code",
   "execution_count": null,
   "id": "e94fe275",
   "metadata": {},
   "outputs": [],
   "source": [
    "group_race = data.groupby('race').count()['target']\n",
    "data_race_count = pd.DataFrame(group_race)\n",
    "data_race_count.columns = ['race_count']\n",
    "race_count = data.groupby('race').count()['target'].tolist()\n",
    "print(\"Number of each race:\\n\", race_count)\n",
    "\n",
    "average_age_men = data.groupby('sex').mean()['age'][1]\n",
    "print(\"Average age of men:\", average_age_men)\n",
    "\n",
    "tot_bach = data[data.education == 'Bachelors'].count()[0]\n",
    "non_bach = data[data.education != 'Bachelors'].count()[0]\n",
    "percentage_bachelors = tot_bach/(non_bach+tot_bach)*100\n",
    "print(f\"Percentage with Bachelors degrees: {percentage_bachelors}%\")\n",
    "\n",
    "group_edu_salary = data.loc[((data.education == 'Bachelors')|(data.education == 'Doctorate')|(data.education == 'Masters')), \n",
    "         ['education','target']].groupby('target').count()\n",
    "higher_education_rich = 100*group_edu_salary['education'][1]/(group_edu_salary['education'][1]+group_edu_salary['education'][0])\n",
    "print(f\"Percentage with higher education that earn >50K: {higher_education_rich}%\")\n",
    "\n",
    "group_no_edu_salary = data.loc[((data.education != 'Bachelors')\n",
    "                                &(data.education != 'Doctorate')\n",
    "                                &(data.education != 'Masters')),['education','target']].groupby('target').count()\n",
    "group_no_edu_salary\n",
    "lower_education_rich = 100*group_no_edu_salary['education'][1]/(group_no_edu_salary['education'][1]+group_no_edu_salary['education'][0])\n",
    "print(f\"Percentage without higher education that earn >50K: {lower_education_rich}%\")\n",
    "\n",
    "min_work_hours = data['hours-per-week'].min()\n",
    "print(f\"Min work time: {min_work_hours} hours/week\")\n",
    "\n",
    "num_minh_50gain = data.loc[((data['hours-per-week'] == 1) & (data.target == '>50K')),['target']].count()[0]\n",
    "num_no_minh_50gain = data.loc[(((data['hours-per-week'] == 1) & (data.target != '>50K'))),['target']].count()[0]\n",
    "rich_percentage = 100*num_minh_50gain/(num_minh_50gain+num_no_minh_50gain)\n",
    "print(f\"Percentage of rich among those who work fewest hours: {rich_percentage}%\")\n",
    "\n",
    "A = pd.DataFrame(data.loc[data.target == '>50K'].groupby('native-country').count().target)\n",
    "A['target_low'] = pd.DataFrame(data.loc[data.target != '>50K'].groupby('native-country').count().target).target\n",
    "A['total'] = A.target+A.target_low\n",
    "A['perc_high'] = A.target/A.total*100\n",
    "A = A.sort_values('perc_high', ascending=False)\n",
    "highest_earning_country = A.index[0]\n",
    "highest_earning_country_percentage = A.perc_high[0]\n",
    "print(\"Country with highest percentage of rich:\", highest_earning_country)\n",
    "print(f\"Highest percentage of rich people in country: {highest_earning_country_percentage}%\")\n",
    "\n",
    "top_IN_occupation = data.loc[((data['native-country']=='India')\n",
    "                                &(data.target=='>50K')),['occupation',\n",
    "                                'target']].groupby('occupation').count().sort_values('target',\n",
    "                                ascending=False).index[0]\n",
    "print(\"Top occupations in India:\", top_IN_occupation)\n"
   ]
  },
  {
   "cell_type": "code",
   "execution_count": null,
   "id": "0d17bf13",
   "metadata": {},
   "outputs": [],
   "source": []
  }
 ],
 "metadata": {
  "kernelspec": {
   "display_name": "Python 3 (ipykernel)",
   "language": "python",
   "name": "python3"
  },
  "language_info": {
   "codemirror_mode": {
    "name": "ipython",
    "version": 3
   },
   "file_extension": ".py",
   "mimetype": "text/x-python",
   "name": "python",
   "nbconvert_exporter": "python",
   "pygments_lexer": "ipython3",
   "version": "3.10.2"
  },
  "toc": {
   "base_numbering": 1,
   "nav_menu": {},
   "number_sections": true,
   "sideBar": true,
   "skip_h1_title": false,
   "title_cell": "Table of Contents",
   "title_sidebar": "Contents",
   "toc_cell": false,
   "toc_position": {},
   "toc_section_display": true,
   "toc_window_display": false
  },
  "varInspector": {
   "cols": {
    "lenName": 16,
    "lenType": 16,
    "lenVar": 40
   },
   "kernels_config": {
    "python": {
     "delete_cmd_postfix": "",
     "delete_cmd_prefix": "del ",
     "library": "var_list.py",
     "varRefreshCmd": "print(var_dic_list())"
    },
    "r": {
     "delete_cmd_postfix": ") ",
     "delete_cmd_prefix": "rm(",
     "library": "var_list.r",
     "varRefreshCmd": "cat(var_dic_list()) "
    }
   },
   "types_to_exclude": [
    "module",
    "function",
    "builtin_function_or_method",
    "instance",
    "_Feature"
   ],
   "window_display": false
  }
 },
 "nbformat": 4,
 "nbformat_minor": 5
}
