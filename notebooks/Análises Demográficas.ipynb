{
 "cells": [
  {
   "cell_type": "code",
   "execution_count": 34,
   "id": "e405a919",
   "metadata": {},
   "outputs": [],
   "source": [
    "import pandas as pd\n",
    "import urllib\n",
    "import csv"
   ]
  },
  {
   "cell_type": "code",
   "execution_count": 25,
   "id": "97b0e937",
   "metadata": {},
   "outputs": [],
   "source": [
    "url_data = 'https://archive.ics.uci.edu/ml/machine-learning-databases/adult/adult.data'\n",
    "url_names = 'https://archive.ics.uci.edu/ml/machine-learning-databases/adult/adult.names'\n",
    "url_test = 'https://archive.ics.uci.edu/ml/machine-learning-databases/adult/adult.test'\n",
    "def importa_salva_dados(url,filename,pasta='../src/data/'):\n",
    "    resposta = requests.get(url)\n",
    "    urllib.request.urlretrieve(url,filename=pasta+filename)\n",
    "        \n",
    "\n"
   ]
  },
  {
   "cell_type": "code",
   "execution_count": 29,
   "id": "dfbbe7af",
   "metadata": {},
   "outputs": [],
   "source": [
    "importa_salva_dados(url_data,'adult_data.csv')\n",
    "importa_salva_dados(url_names,'adult_names.csv')\n",
    "importa_salva_dados(url_test,'adult_test.csv')"
   ]
  },
  {
   "cell_type": "code",
   "execution_count": 232,
   "id": "37cca377",
   "metadata": {},
   "outputs": [
    {
     "name": "stderr",
     "output_type": "stream",
     "text": [
      "C:\\Users\\Cassio\\AppData\\Local\\Temp\\ipykernel_27460\\2974117868.py:5: ParserWarning: Falling back to the 'python' engine because the 'c' engine does not support regex separators (separators > 1 char and different from '\\s+' are interpreted as regex); you can avoid this warning by specifying engine='python'.\n",
      "  data = pd.read_csv('../src/data/adult_data.csv',header = None, delimiter=(', '))\n"
     ]
    },
    {
     "name": "stdout",
     "output_type": "stream",
     "text": [
      "[['age', 'continuous.'], ['workclass', 'Private, Self-emp-not-inc, Self-emp-inc, Federal-gov, Local-gov, State-gov, Without-pay, Never-worked.'], ['fnlwgt', 'continuous.'], ['education', 'Bachelors, Some-college, 11th, HS-grad, Prof-school, Assoc-acdm, Assoc-voc, 9th, 7th-8th, 12th, Masters, 1st-4th, 10th, Doctorate, 5th-6th, Preschool.'], ['education-num', 'continuous.'], ['marital-status', 'Married-civ-spouse, Divorced, Never-married, Separated, Widowed, Married-spouse-absent, Married-AF-spouse.'], ['occupation', 'Tech-support, Craft-repair, Other-service, Sales, Exec-managerial, Prof-specialty, Handlers-cleaners, Machine-op-inspct, Adm-clerical, Farming-fishing, Transport-moving, Priv-house-serv, Protective-serv, Armed-Forces.'], ['relationship', 'Wife, Own-child, Husband, Not-in-family, Other-relative, Unmarried.'], ['race', 'White, Asian-Pac-Islander, Amer-Indian-Eskimo, Other, Black.'], ['sex', 'Female, Male.'], ['capital-gain', 'continuous.'], ['capital-loss', 'continuous.'], ['hours-per-week', 'continuous.'], ['native-country', 'United-States, Cambodia, England, Puerto-Rico, Canada, Germany, Outlying-US(Guam-USVI-etc), India, Japan, Greece, South, China, Cuba, Iran, Honduras, Philippines, Italy, Poland, Jamaica, Vietnam, Mexico, Portugal, Ireland, France, Dominican-Republic, Laos, Ecuador, Taiwan, Haiti, Columbia, Hungary, Guatemala, Nicaragua, Scotland, Thailand, Yugoslavia, El-Salvador, Trinadad&Tobago, Peru, Hong, Holand-Netherlands.'], ['']]\n"
     ]
    }
   ],
   "source": [
    "with open('../src/data/adult_names.csv', 'r') as file: lines = file.read().split('\\n')\n",
    "lines_ = [line.split(': ') for line in lines[-15:]]\n",
    "headers = [head[0] for head in lines_[:]]\n",
    "headers[-1] = 'target'\n",
    "data = pd.read_csv('../src/data/adult_data.csv',header = None, delimiter=(', '))\n",
    "data.columns = headers\n",
    "print(lines_)"
   ]
  },
  {
   "cell_type": "code",
   "execution_count": 233,
   "id": "61604765",
   "metadata": {},
   "outputs": [
    {
     "data": {
      "text/html": [
       "<div>\n",
       "<style scoped>\n",
       "    .dataframe tbody tr th:only-of-type {\n",
       "        vertical-align: middle;\n",
       "    }\n",
       "\n",
       "    .dataframe tbody tr th {\n",
       "        vertical-align: top;\n",
       "    }\n",
       "\n",
       "    .dataframe thead th {\n",
       "        text-align: right;\n",
       "    }\n",
       "</style>\n",
       "<table border=\"1\" class=\"dataframe\">\n",
       "  <thead>\n",
       "    <tr style=\"text-align: right;\">\n",
       "      <th></th>\n",
       "      <th>age</th>\n",
       "      <th>workclass</th>\n",
       "      <th>fnlwgt</th>\n",
       "      <th>education</th>\n",
       "      <th>education-num</th>\n",
       "      <th>marital-status</th>\n",
       "      <th>occupation</th>\n",
       "      <th>relationship</th>\n",
       "      <th>race</th>\n",
       "      <th>sex</th>\n",
       "      <th>capital-gain</th>\n",
       "      <th>capital-loss</th>\n",
       "      <th>hours-per-week</th>\n",
       "      <th>native-country</th>\n",
       "      <th>target</th>\n",
       "    </tr>\n",
       "  </thead>\n",
       "  <tbody>\n",
       "    <tr>\n",
       "      <th>0</th>\n",
       "      <td>39</td>\n",
       "      <td>State-gov</td>\n",
       "      <td>77516</td>\n",
       "      <td>Bachelors</td>\n",
       "      <td>13</td>\n",
       "      <td>Never-married</td>\n",
       "      <td>Adm-clerical</td>\n",
       "      <td>Not-in-family</td>\n",
       "      <td>White</td>\n",
       "      <td>Male</td>\n",
       "      <td>2174</td>\n",
       "      <td>0</td>\n",
       "      <td>40</td>\n",
       "      <td>United-States</td>\n",
       "      <td>&lt;=50K</td>\n",
       "    </tr>\n",
       "    <tr>\n",
       "      <th>1</th>\n",
       "      <td>50</td>\n",
       "      <td>Self-emp-not-inc</td>\n",
       "      <td>83311</td>\n",
       "      <td>Bachelors</td>\n",
       "      <td>13</td>\n",
       "      <td>Married-civ-spouse</td>\n",
       "      <td>Exec-managerial</td>\n",
       "      <td>Husband</td>\n",
       "      <td>White</td>\n",
       "      <td>Male</td>\n",
       "      <td>0</td>\n",
       "      <td>0</td>\n",
       "      <td>13</td>\n",
       "      <td>United-States</td>\n",
       "      <td>&lt;=50K</td>\n",
       "    </tr>\n",
       "  </tbody>\n",
       "</table>\n",
       "</div>"
      ],
      "text/plain": [
       "   age         workclass  fnlwgt  education  education-num  \\\n",
       "0   39         State-gov   77516  Bachelors             13   \n",
       "1   50  Self-emp-not-inc   83311  Bachelors             13   \n",
       "\n",
       "       marital-status       occupation   relationship   race   sex  \\\n",
       "0       Never-married     Adm-clerical  Not-in-family  White  Male   \n",
       "1  Married-civ-spouse  Exec-managerial        Husband  White  Male   \n",
       "\n",
       "   capital-gain  capital-loss  hours-per-week native-country target  \n",
       "0          2174             0              40  United-States  <=50K  \n",
       "1             0             0              13  United-States  <=50K  "
      ]
     },
     "execution_count": 233,
     "metadata": {},
     "output_type": "execute_result"
    }
   ],
   "source": [
    "data.head(2)"
   ]
  },
  {
   "cell_type": "markdown",
   "id": "9369474f",
   "metadata": {},
   "source": [
    "Quantas pessoas de cada raça estão representadas neste conjunto de dados? Esta deve ser uma série Pandas com nomes de raça como rótulos de índice. ( racecoluna)  \n",
    "Qual é a idade média dos homens?  \n",
    "Qual é a porcentagem de pessoas que têm um diploma de bacharel?  \n",
    "Que porcentagem de pessoas com educação avançada ( Bachelors, Mastersou Doctorate) ganham mais de 50 mil?  \n",
    "Que porcentagem de pessoas sem educação avançada ganha mais de 50 mil?  \n",
    "Qual é o número mínimo de horas que uma pessoa trabalha por semana?  \n",
    "Que porcentagem das pessoas que trabalham o número mínimo de horas por semana tem um salário superior a 50 mil?  \n",
    "Qual país tem a maior porcentagem de pessoas que ganham mais de 50 mil e qual é essa porcentagem?  \n",
    "Identifique a ocupação mais popular para quem ganha mais de 50 mil na Índia.  "
   ]
  },
  {
   "cell_type": "code",
   "execution_count": 236,
   "id": "9d786bfa",
   "metadata": {},
   "outputs": [
    {
     "name": "stdout",
     "output_type": "stream",
     "text": [
      "Há 311 pessoas do grupo étnico Amer-Indian-Eskimo\n",
      "Há 1039 pessoas do grupo étnico Asian-Pac-Islander\n",
      "Há 3124 pessoas do grupo étnico Black\n",
      "Há 271 pessoas do grupo étnico Other\n",
      "Há 27816 pessoas do grupo étnico White\n"
     ]
    }
   ],
   "source": [
    "# Quantas pessoas de cada raça estão representadas neste conjunto de dados? \n",
    "# Esta deve ser uma série Pandas com nomes de raça como rótulos de índice. ( racecoluna)\n",
    "group_race = data.groupby('race').count()['target']\n",
    "group_race.index[0]\n",
    "for i, u in enumerate(group_race):\n",
    "    print(f'Há {u} pessoas do grupo étnico {group_race.index[i]}')"
   ]
  },
  {
   "cell_type": "code",
   "execution_count": 237,
   "id": "435fbd19",
   "metadata": {},
   "outputs": [
    {
     "name": "stdout",
     "output_type": "stream",
     "text": [
      "A idade média dos homens 39 years.\n"
     ]
    }
   ],
   "source": [
    "# Qual é a idade média dos homens?\n",
    "mean_male_age = data.groupby('sex').mean()['age'][1]\n",
    "print('A idade média dos homens {:.0f}'.format(mean_male_age),'years.')"
   ]
  },
  {
   "cell_type": "code",
   "execution_count": 238,
   "id": "00a18eef",
   "metadata": {},
   "outputs": [
    {
     "name": "stdout",
     "output_type": "stream",
     "text": [
      "A Fração de pessoas que tem um diploma de Bacharel é 16.45%\n"
     ]
    }
   ],
   "source": [
    "# Qual é a porcentagem de pessoas que têm um diploma de bacharel?\n",
    "tot_bach = data[data.education == 'Bachelors'].count()[0]\n",
    "non_bach = data[data.education != 'Bachelors'].count()[0]\n",
    "perc_bach = tot_bach/(non_bach+tot_bach)*100\n",
    "print('A Fração de pessoas que tem um diploma de Bacharel é {:.2f}%'.format(perc_bach) )"
   ]
  },
  {
   "cell_type": "code",
   "execution_count": 309,
   "id": "4dcff1f7",
   "metadata": {},
   "outputs": [
    {
     "name": "stdout",
     "output_type": "stream",
     "text": [
      "A porcentagem que pessoas com Bacharelado, Mestrado ou Doutorado que ganha mais de 50 mil é 46.54%\n"
     ]
    }
   ],
   "source": [
    "# Que porcentagem de pessoas com educação avançada ( Bachelors, Masters ou Doctorate) ganham mais de 50 mil?\n",
    "\n",
    "group_edu_salary = data.loc[((data.education == 'Bachelors')|(data.education == 'Doctorate')|(data.education == 'Masters')), \n",
    "         ['education','target']].groupby('target').count()\n",
    "perc_high_edu = 100*group_edu_salary['education'][1]/(group_edu_salary['education'][1]+group_edu_salary['education'][0])\n",
    "print('A porcentagem que pessoas com Bacharelado, Mestrado ou Doutorado que ganha mais de 50 mil é {:.2f}%'.format(perc_high_edu))\n"
   ]
  },
  {
   "cell_type": "code",
   "execution_count": 314,
   "id": "bef29da0",
   "metadata": {},
   "outputs": [
    {
     "name": "stdout",
     "output_type": "stream",
     "text": [
      "A porcentagem que pessoas sem Bacharelado, Mestrado ou Doutorado que ganha mais de 50 mil é 24.08%\n"
     ]
    }
   ],
   "source": [
    "# Que porcentagem de pessoas sem educação avançada ganha mais de 50 mil?\n",
    "group_no_edu_salary = data.loc[((data.education != 'Bachelors')|(data.education != 'Doctorate')|(data.education != 'Masters')), \n",
    "         ['education','target']].groupby('target').count()\n",
    "perc_no_high_edu = 100*group_no_edu_salary['education'][1]/(group_no_edu_salary['education'][1]+group_no_edu_salary['education'][0])\n",
    "print('A porcentagem que pessoas sem Bacharelado, Mestrado ou Doutorado que ganha mais de 50 mil é {:.2f}%'.format(perc_no_high_edu))"
   ]
  },
  {
   "cell_type": "code",
   "execution_count": 342,
   "id": "39bb77e3",
   "metadata": {},
   "outputs": [
    {
     "name": "stdout",
     "output_type": "stream",
     "text": [
      "O número mínimo de horas que uma pessoa trabalha por semana é 1 hora por semana.\n"
     ]
    }
   ],
   "source": [
    "# Qual é o número mínimo de horas que uma pessoa trabalha por semana?\n",
    "min_h = data['hours-per-week'].min()\n",
    "print('O número mínimo de horas que uma pessoa trabalha por semana é',min_h, 'hora por semana.')"
   ]
  },
  {
   "cell_type": "code",
   "execution_count": 364,
   "id": "490e9919",
   "metadata": {},
   "outputs": [
    {
     "name": "stdout",
     "output_type": "stream",
     "text": [
      "A porcentagem das pessoas que trabalham o número mínimo de horas por semana e tem um salário superior a 50 mil é 0.008%\n"
     ]
    }
   ],
   "source": [
    "# Que porcentagem das pessoas que trabalham o número mínimo de horas por semana tem um salário superior a 50 mil? \n",
    "num_minh_50gain = data.loc[((data['hours-per-week'] == 1) & (data.target == '>50K')),['target']].count()[0]\n",
    "num_no_minh_50gain = data.loc[(((data.target != '>50K'))),['target']].count()[0]\n",
    "perc_minh_50gain = 100*num_minh_50gain/(num_minh_50gain+num_no_minh_50gain)\n",
    "print('A porcentagem das pessoas que trabalham o número mínimo de horas por semana e tem um salário superior a 50 mil é {:.3f}%'.format(perc_minh_50gain))"
   ]
  },
  {
   "cell_type": "code",
   "execution_count": 398,
   "id": "1a12f15c",
   "metadata": {},
   "outputs": [
    {
     "ename": "SyntaxError",
     "evalue": "f-string: empty expression not allowed (3474216408.py, line 7)",
     "output_type": "error",
     "traceback": [
      "\u001b[1;36m  Input \u001b[1;32mIn [398]\u001b[1;36m\u001b[0m\n\u001b[1;33m    \"\"\".format(perc_country))\u001b[0m\n\u001b[1;37m       ^\u001b[0m\n\u001b[1;31mSyntaxError\u001b[0m\u001b[1;31m:\u001b[0m f-string: empty expression not allowed\n"
     ]
    }
   ],
   "source": [
    "# Qual país tem a maior porcentagem de pessoas que ganham mais de 50 mil e qual é essa porcentagem?\n",
    "country_more50k = data.loc[((data.target == '>50K')),('native-country',\n",
    "                                    'target')].groupby('native-country').count().sort_values('target',ascending=False)\n",
    "format(perc_country = 100*country_more50k.target[0]/(country_more50k.target[0]+country_more50k.sum()[0]),)\n",
    "print(f\"\"\" O país tem a maior porcentagem de pessoas que ganham mais de 50 mil é {country_more50k.index[0]}.\n",
    "E essa porcentagem é {:.2f}\n",
    "\"\"\".format(perc_country))"
   ]
  },
  {
   "cell_type": "code",
   "execution_count": 396,
   "id": "567fa5bd",
   "metadata": {},
   "outputs": [
    {
     "data": {
      "text/plain": [
       "7841"
      ]
     },
     "execution_count": 396,
     "metadata": {},
     "output_type": "execute_result"
    }
   ],
   "source": [
    "country_more50k.target[0]\n",
    "country_more50k.index[0]\n",
    "country_more50k.sum()[0]"
   ]
  },
  {
   "cell_type": "code",
   "execution_count": null,
   "id": "9c5a9393",
   "metadata": {},
   "outputs": [],
   "source": []
  }
 ],
 "metadata": {
  "kernelspec": {
   "display_name": "Python 3 (ipykernel)",
   "language": "python",
   "name": "python3"
  },
  "language_info": {
   "codemirror_mode": {
    "name": "ipython",
    "version": 3
   },
   "file_extension": ".py",
   "mimetype": "text/x-python",
   "name": "python",
   "nbconvert_exporter": "python",
   "pygments_lexer": "ipython3",
   "version": "3.10.2"
  },
  "toc": {
   "base_numbering": 1,
   "nav_menu": {},
   "number_sections": true,
   "sideBar": true,
   "skip_h1_title": false,
   "title_cell": "Table of Contents",
   "title_sidebar": "Contents",
   "toc_cell": false,
   "toc_position": {},
   "toc_section_display": true,
   "toc_window_display": false
  },
  "varInspector": {
   "cols": {
    "lenName": 16,
    "lenType": 16,
    "lenVar": 40
   },
   "kernels_config": {
    "python": {
     "delete_cmd_postfix": "",
     "delete_cmd_prefix": "del ",
     "library": "var_list.py",
     "varRefreshCmd": "print(var_dic_list())"
    },
    "r": {
     "delete_cmd_postfix": ") ",
     "delete_cmd_prefix": "rm(",
     "library": "var_list.r",
     "varRefreshCmd": "cat(var_dic_list()) "
    }
   },
   "types_to_exclude": [
    "module",
    "function",
    "builtin_function_or_method",
    "instance",
    "_Feature"
   ],
   "window_display": false
  }
 },
 "nbformat": 4,
 "nbformat_minor": 5
}
